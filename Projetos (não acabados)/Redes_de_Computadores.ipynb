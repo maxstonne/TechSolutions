{
  "nbformat": 4,
  "nbformat_minor": 0,
  "metadata": {
    "colab": {
      "provenance": [],
      "authorship_tag": "ABX9TyPcxg8TMMhpP1FcAPM+ysQf",
      "include_colab_link": true
    },
    "kernelspec": {
      "name": "python3",
      "display_name": "Python 3"
    },
    "language_info": {
      "name": "python"
    }
  },
  "cells": [
    {
      "cell_type": "markdown",
      "metadata": {
        "id": "view-in-github",
        "colab_type": "text"
      },
      "source": [
        "<a href=\"https://colab.research.google.com/github/maxstonne/TechSolutions/blob/main/Projetos%20(n%C3%A3o%20acabados)/Redes_de_Computadores.ipynb\" target=\"_parent\"><img src=\"https://colab.research.google.com/assets/colab-badge.svg\" alt=\"Open In Colab\"/></a>"
      ]
    },
    {
      "cell_type": "code",
      "execution_count": null,
      "metadata": {
        "colab": {
          "base_uri": "https://localhost:8080/"
        },
        "id": "NZPSlLfaLtOt",
        "outputId": "e3b65bb8-4d62-43ce-c355-e182c4d9c1af"
      },
      "outputs": [
        {
          "output_type": "stream",
          "name": "stdout",
          "text": [
            "Endereço IP: 192.168.1.1/24\n",
            "Máscara de sub-rede: 255.255.255.0\n"
          ]
        }
      ],
      "source": [
        "import ipaddress\n",
        "\n",
        "def calcular_mascara_subrede(ip, bits_mascara):\n",
        "    try:\n",
        "        # Cria a rede a partir do endereço IP e bits da máscara\n",
        "        rede = ipaddress.IPv4Network(f'{ip}/{bits_mascara}', strict=False)\n",
        "        # Retorna a máscara de sub-rede\n",
        "        return rede.netmask\n",
        "    except ValueError as e:\n",
        "        return str(e)\n",
        "\n",
        "# Exemplo de uso\n",
        "ip = '192.168.1.1'\n",
        "bits_mascara = 24\n",
        "mascara_subrede = calcular_mascara_subrede(ip, bits_mascara)\n",
        "print(f'Endereço IP: {ip}/{bits_mascara}')\n",
        "print(f'Máscara de sub-rede: {mascara_subrede}')\n"
      ]
    },
    {
      "cell_type": "code",
      "source": [
        "import os\n",
        "import platform\n",
        "\n",
        "def ping(host):\n",
        "    # Determina o comando de ping baseado no sistema operacional\n",
        "    comando = ['ping', '-c', '4', host] if platform.system().lower() == 'linux' else ['ping', '-n', '4', host]\n",
        "\n",
        "    # Executa o comando de ping\n",
        "    resposta = os.system(' '.join(comando))\n",
        "\n",
        "    # Verifica o código de retorno para determinar a conectividade\n",
        "    if resposta == 0:\n",
        "        return f'{host} está acessível'\n",
        "    else:\n",
        "        return f'{host} não está acessível'\n",
        "\n",
        "# Exemplo de uso\n",
        "host = 'google.com'\n",
        "resultado = ping(host)\n",
        "print(resultado)\n"
      ],
      "metadata": {
        "colab": {
          "base_uri": "https://localhost:8080/"
        },
        "id": "qrJ6XT_6L9Yz",
        "outputId": "a8ff6147-84c8-4bc9-b8e0-826d094509a7"
      },
      "execution_count": null,
      "outputs": [
        {
          "output_type": "stream",
          "name": "stdout",
          "text": [
            "google.com não está acessível\n"
          ]
        }
      ]
    }
  ]
}