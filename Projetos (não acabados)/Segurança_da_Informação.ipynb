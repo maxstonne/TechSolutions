{
  "nbformat": 4,
  "nbformat_minor": 0,
  "metadata": {
    "colab": {
      "provenance": [],
      "authorship_tag": "ABX9TyO10adi9SBSb3gMIPhWPTvH",
      "include_colab_link": true
    },
    "kernelspec": {
      "name": "python3",
      "display_name": "Python 3"
    },
    "language_info": {
      "name": "python"
    }
  },
  "cells": [
    {
      "cell_type": "markdown",
      "metadata": {
        "id": "view-in-github",
        "colab_type": "text"
      },
      "source": [
        "<a href=\"https://colab.research.google.com/github/maxstonne/TechSolutions/blob/main/Projetos%20(n%C3%A3o%20acabados)/Seguran%C3%A7a_da_Informa%C3%A7%C3%A3o.ipynb\" target=\"_parent\"><img src=\"https://colab.research.google.com/assets/colab-badge.svg\" alt=\"Open In Colab\"/></a>"
      ]
    },
    {
      "cell_type": "code",
      "execution_count": null,
      "metadata": {
        "colab": {
          "base_uri": "https://localhost:8080/"
        },
        "id": "cJO51GNfOCbf",
        "outputId": "7dc9eadf-885f-484d-c009-c559c94955f8"
      },
      "outputs": [
        {
          "output_type": "stream",
          "name": "stdout",
          "text": [
            "Texto Original: Segurança da Informação é crucial.\n",
            "Texto Criptografado: b'gAAAAABmaQF7ngIDg4Ni4ZC_EzAzIyVIce9zD-qUxaZ8Qi8POUteBLgbaj73DMjYwiB3bQuRpOf_8FG_8fZRmSuKIxtAlKcz6gQZoPGFz27OBGdhIaqu88vJg8Omw6A8M85_2diIA1Zj'\n",
            "Texto Descriptografado: Segurança da Informação é crucial.\n"
          ]
        }
      ],
      "source": [
        "from cryptography.fernet import Fernet\n",
        "\n",
        "# Função para gerar e retornar uma chave de criptografia\n",
        "def gerar_chave():\n",
        "    chave = Fernet.generate_key()\n",
        "    return chave\n",
        "\n",
        "# Função para criptografar o texto usando a chave fornecida\n",
        "def criptografar_texto(texto, chave):\n",
        "    fernet = Fernet(chave)\n",
        "    texto_criptografado = fernet.encrypt(texto.encode())\n",
        "    return texto_criptografado\n",
        "\n",
        "# Função para descriptografar o texto criptografado usando a chave fornecida\n",
        "def descriptografar_texto(texto_criptografado, chave):\n",
        "    fernet = Fernet(chave)\n",
        "    texto_descriptografado = fernet.decrypt(texto_criptografado).decode()\n",
        "    return texto_descriptografado\n",
        "\n",
        "# Exemplo de uso\n",
        "chave = gerar_chave()\n",
        "texto = \"Segurança da Informação é crucial.\"\n",
        "texto_criptografado = criptografar_texto(texto, chave)\n",
        "texto_descriptografado = descriptografar_texto(texto_criptografado, chave)\n",
        "\n",
        "print(f\"Texto Original: {texto}\")\n",
        "print(f\"Texto Criptografado: {texto_criptografado}\")\n",
        "print(f\"Texto Descriptografado: {texto_descriptografado}\")\n"
      ]
    },
    {
      "cell_type": "code",
      "source": [
        "import hashlib\n",
        "\n",
        "# Função para calcular o hash SHA-256 de um arquivo\n",
        "def calcular_hash_arquivo(caminho_arquivo):\n",
        "    sha256 = hashlib.sha256()\n",
        "    try:\n",
        "        with open(caminho_arquivo, 'rb') as arquivo:\n",
        "            while True:\n",
        "                bloco = arquivo.read(4096)\n",
        "                if not bloco:\n",
        "                    break\n",
        "                sha256.update(bloco)\n",
        "        return sha256.hexdigest()\n",
        "    except FileNotFoundError:\n",
        "        return \"Arquivo não encontrado.\"\n",
        "\n",
        "# Exemplo de uso\n",
        "caminho_arquivo = \"exemplo.txt\"  # Substitua pelo caminho do arquivo que deseja calcular o hash\n",
        "hash_arquivo = calcular_hash_arquivo(caminho_arquivo)\n",
        "print(f\"Hash SHA-256 do arquivo {caminho_arquivo}: {hash_arquivo}\")\n"
      ],
      "metadata": {
        "colab": {
          "base_uri": "https://localhost:8080/"
        },
        "id": "Yi1Jnx2-OMH3",
        "outputId": "22252c07-6ac8-4a33-8576-484bec96230d"
      },
      "execution_count": null,
      "outputs": [
        {
          "output_type": "stream",
          "name": "stdout",
          "text": [
            "Hash SHA-256 do arquivo exemplo.txt: Arquivo não encontrado.\n"
          ]
        }
      ]
    }
  ]
}