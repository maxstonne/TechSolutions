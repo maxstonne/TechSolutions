{
  "nbformat": 4,
  "nbformat_minor": 0,
  "metadata": {
    "colab": {
      "provenance": [],
      "authorship_tag": "ABX9TyNIRRansF0f+vTq4ul0nAWj",
      "include_colab_link": true
    },
    "kernelspec": {
      "name": "python3",
      "display_name": "Python 3"
    },
    "language_info": {
      "name": "python"
    }
  },
  "cells": [
    {
      "cell_type": "markdown",
      "metadata": {
        "id": "view-in-github",
        "colab_type": "text"
      },
      "source": [
        "<a href=\"https://colab.research.google.com/github/maxstonne/TechSolutions/blob/main/Projetos%20(n%C3%A3o%20acabados)/Modelagem_de_Dados.ipynb\" target=\"_parent\"><img src=\"https://colab.research.google.com/assets/colab-badge.svg\" alt=\"Open In Colab\"/></a>"
      ]
    },
    {
      "cell_type": "code",
      "execution_count": null,
      "metadata": {
        "colab": {
          "base_uri": "https://localhost:8080/"
        },
        "id": "6k7YEtn8ARi9",
        "outputId": "f0f7644a-8d6e-4093-9d7f-b75102acc183"
      },
      "outputs": [
        {
          "output_type": "stream",
          "name": "stdout",
          "text": [
            "Departamentos:\n",
            " [(1, 'Recursos Humanos'), (2, 'Desenvolvimento')]\n",
            "\n",
            "Funcionários:\n",
            " [(1, 'Alice', 'Analista de RH', 5000.0, 1), (2, 'Bob', 'Desenvolvedor', 7000.0, 2)]\n"
          ]
        }
      ],
      "source": [
        "import sqlite3\n",
        "\n",
        "# Conectar ao banco de dados (ou criar se não existir)\n",
        "conn = sqlite3.connect('empresa.db')\n",
        "cursor = conn.cursor()\n",
        "\n",
        "# Criar tabelas\n",
        "cursor.execute('''\n",
        "CREATE TABLE IF NOT EXISTS Departamento (\n",
        "    id INTEGER PRIMARY KEY AUTOINCREMENT,\n",
        "    nome TEXT NOT NULL\n",
        ")\n",
        "''')\n",
        "\n",
        "cursor.execute('''\n",
        "CREATE TABLE IF NOT EXISTS Funcionario (\n",
        "    id INTEGER PRIMARY KEY AUTOINCREMENT,\n",
        "    nome TEXT NOT NULL,\n",
        "    cargo TEXT NOT NULL,\n",
        "    salario REAL NOT NULL,\n",
        "    departamento_id INTEGER,\n",
        "    FOREIGN KEY (departamento_id) REFERENCES Departamento(id)\n",
        ")\n",
        "''')\n",
        "\n",
        "# Inserir dados nas tabelas\n",
        "cursor.executemany('INSERT INTO Departamento (nome) VALUES (?)',\n",
        "                   [('Recursos Humanos',), ('Desenvolvimento',)])\n",
        "\n",
        "cursor.executemany('INSERT INTO Funcionario (nome, cargo, salario, departamento_id) VALUES (?, ?, ?, ?)',\n",
        "                   [('Alice', 'Analista de RH', 5000.0, 1),\n",
        "                    ('Bob', 'Desenvolvedor', 7000.0, 2)])\n",
        "\n",
        "# Consultar e imprimir dados\n",
        "cursor.execute('SELECT * FROM Departamento')\n",
        "print(\"Departamentos:\\n\", cursor.fetchall())\n",
        "\n",
        "cursor.execute('SELECT * FROM Funcionario')\n",
        "print(\"\\nFuncionários:\\n\", cursor.fetchall())\n",
        "\n",
        "# Fechar a conexão\n",
        "conn.commit()\n",
        "conn.close()\n"
      ]
    },
    {
      "cell_type": "code",
      "source": [
        "import sqlite3\n",
        "\n",
        "# Conectar ao banco de dados (ou criar se não existir)\n",
        "conn = sqlite3.connect('vendas_dimensional.db')\n",
        "cursor = conn.cursor()\n",
        "\n",
        "# Criar tabelas de dimensão\n",
        "cursor.execute('''\n",
        "CREATE TABLE IF NOT EXISTS Produto (\n",
        "    id INTEGER PRIMARY KEY AUTOINCREMENT,\n",
        "    nome TEXT NOT NULL,\n",
        "    categoria TEXT NOT NULL\n",
        ")\n",
        "''')\n",
        "\n",
        "cursor.execute('''\n",
        "CREATE TABLE IF NOT EXISTS Cliente (\n",
        "    id INTEGER PRIMARY KEY AUTOINCREMENT,\n",
        "    nome TEXT NOT NULL,\n",
        "    cidade TEXT NOT NULL\n",
        ")\n",
        "''')\n",
        "\n",
        "cursor.execute('''\n",
        "CREATE TABLE IF NOT EXISTS Tempo (\n",
        "    id INTEGER PRIMARY KEY AUTOINCREMENT,\n",
        "    data DATE NOT NULL,\n",
        "    ano INTEGER NOT NULL,\n",
        "    mes INTEGER NOT NULL,\n",
        "    dia INTEGER NOT NULL\n",
        ")\n",
        "''')\n",
        "\n",
        "# Criar tabela de fatos\n",
        "cursor.execute('''\n",
        "CREATE TABLE IF NOT EXISTS Vendas (\n",
        "    id INTEGER PRIMARY KEY AUTOINCREMENT,\n",
        "    produto_id INTEGER,\n",
        "    cliente_id INTEGER,\n",
        "    tempo_id INTEGER,\n",
        "    quantidade INTEGER NOT NULL,\n",
        "    valor_total REAL NOT NULL,\n",
        "    FOREIGN KEY (produto_id) REFERENCES Produto(id),\n",
        "    FOREIGN KEY (cliente_id) REFERENCES Cliente(id),\n",
        "    FOREIGN KEY (tempo_id) REFERENCES Tempo(id)\n",
        ")\n",
        "''')\n",
        "\n",
        "# Inserir dados nas tabelas de dimensão\n",
        "cursor.executemany('INSERT INTO Produto (nome, categoria) VALUES (?, ?)',\n",
        "                   [('Laptop', 'Eletrônicos'), ('Cadeira', 'Móveis')])\n",
        "\n",
        "cursor.executemany('INSERT INTO Cliente (nome, cidade) VALUES (?, ?)',\n",
        "                   [('João Silva', 'São Paulo'), ('Maria Oliveira', 'Rio de Janeiro')])\n",
        "\n",
        "cursor.executemany('INSERT INTO Tempo (data, ano, mes, dia) VALUES (?, ?, ?, ?)',\n",
        "                   [('2024-01-01', 2024, 1, 1), ('2024-01-02', 2024, 1, 2)])\n",
        "\n",
        "# Inserir dados na tabela de fatos\n",
        "cursor.executemany('INSERT INTO Vendas (produto_id, cliente_id, tempo_id, quantidade, valor_total) VALUES (?, ?, ?, ?, ?)',\n",
        "                   [(1, 1, 1, 2, 3000.00), (2, 2, 2, 1, 500.00)])\n",
        "\n",
        "# Consultar e imprimir dados\n",
        "cursor.execute('SELECT * FROM Produto')\n",
        "print(\"Produtos:\\n\", cursor.fetchall())\n",
        "\n",
        "cursor.execute('SELECT * FROM Cliente')\n",
        "print(\"\\nClientes:\\n\", cursor.fetchall())\n",
        "\n",
        "cursor.execute('SELECT * FROM Tempo')\n",
        "print(\"\\nTempo:\\n\", cursor.fetchall())\n",
        "\n",
        "cursor.execute('SELECT * FROM Vendas')\n",
        "print(\"\\nVendas:\\n\", cursor.fetchall())\n",
        "\n",
        "# Fechar a conexão\n",
        "conn.commit()\n",
        "conn.close()\n"
      ],
      "metadata": {
        "colab": {
          "base_uri": "https://localhost:8080/"
        },
        "id": "B6uxc0sjAe4S",
        "outputId": "dc0d6c1c-ed54-4571-eb11-c425ab6c9d66"
      },
      "execution_count": null,
      "outputs": [
        {
          "output_type": "stream",
          "name": "stdout",
          "text": [
            "Produtos:\n",
            " [(1, 'Laptop', 'Eletrônicos'), (2, 'Cadeira', 'Móveis')]\n",
            "\n",
            "Clientes:\n",
            " [(1, 'João Silva', 'São Paulo'), (2, 'Maria Oliveira', 'Rio de Janeiro')]\n",
            "\n",
            "Tempo:\n",
            " [(1, '2024-01-01', 2024, 1, 1), (2, '2024-01-02', 2024, 1, 2)]\n",
            "\n",
            "Vendas:\n",
            " [(1, 1, 1, 1, 2, 3000.0), (2, 2, 2, 2, 1, 500.0)]\n"
          ]
        }
      ]
    }
  ]
}